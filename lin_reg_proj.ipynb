{
 "cells": [
  {
   "cell_type": "markdown",
   "id": "90631aab",
   "metadata": {},
   "source": [
    "# Truck Prices\n",
    "Using a linear regression, I will model the prices of used trucks.\n",
    "Target: Truck sale price\n",
    "Features: mileage, make, model, year of production\n",
    "\n",
    "Process:\n",
    "1. scrape the data using extract and selenium\n",
    "2. parse the string with beautifulsoup\n",
    "3. store data in pandas dataframe\n",
    "4. fit linear regression using sklearn.linear_model, iterate model for best metrics\n",
    "5. test final model on test data\n",
    "6. create 5 minute presentation and paper"
   ]
  },
  {
   "cell_type": "code",
   "execution_count": 24,
   "id": "46d5a6be",
   "metadata": {},
   "outputs": [],
   "source": [
    "import requests\n",
    "from bs4 import BeautifulSoup as bs\n",
    "import time, os"
   ]
  },
  {
   "cell_type": "markdown",
   "id": "8d110f15",
   "metadata": {},
   "source": [
    "Using requests library, ensure dealership site can be scraped for HTML file since sales forums like carvana, carmax, and cars.com don't allow scraping."
   ]
  },
  {
   "cell_type": "code",
   "execution_count": 25,
   "id": "6b47386d",
   "metadata": {},
   "outputs": [
    {
     "name": "stdout",
     "output_type": "stream",
     "text": [
      "200\n"
     ]
    },
    {
     "data": {
      "text/plain": [
       "'code 200 means successful HTML extraction'"
      ]
     },
     "execution_count": 25,
     "metadata": {},
     "output_type": "execute_result"
    }
   ],
   "source": [
    "'''large used car sale sites like carvana, carmax, cars.com block scraping. individual dealer sites do not'''\n",
    "#https://www.hendrickcars.com/robots.txt\n",
    "url = 'https://www.hendrickcars.com/used-inventory/index.htm?normalBodyStyle=Truck&referrer=%2F&saveFacetState=true&geoZip=60601&geoRadius=0'\n",
    "response = requests.get(url)\n",
    "print(response.status_code)\n",
    "\n",
    "'''code 200 means successful HTML extraction'''\n"
   ]
  },
  {
   "cell_type": "code",
   "execution_count": 26,
   "id": "8d44da1c",
   "metadata": {},
   "outputs": [],
   "source": [
    "'''website only loads 25 matches at a time,\n",
    "need to click next at bottom. selenium will help with this.'''\n",
    "from selenium import webdriver\n",
    "from selenium.webdriver.common.keys import Keys\n",
    "\n",
    "chromedriver = \"/home/jtaz/Documents/lin_reg/chromedriver\" # path to the chromedriver executable\n",
    "os.environ[\"webdriver.chrome.driver\"] = chromedriver"
   ]
  },
  {
   "cell_type": "code",
   "execution_count": 27,
   "id": "16612e8a",
   "metadata": {},
   "outputs": [
    {
     "name": "stderr",
     "output_type": "stream",
     "text": [
      "/tmp/ipykernel_1754/360657133.py:1: DeprecationWarning: executable_path has been deprecated, please pass in a Service object\n",
      "  driver = webdriver.Chrome(chromedriver)\n"
     ]
    }
   ],
   "source": [
    "driver = webdriver.Chrome(chromedriver)\n",
    "driver.get(url) #driver opens browser window to URL specified\n"
   ]
  },
  {
   "cell_type": "code",
   "execution_count": 66,
   "id": "446b24d7",
   "metadata": {},
   "outputs": [],
   "source": [
    "'''need to scroll to the bottom of the page, pausing along the way to let all the listings load,\n",
    "save page html, then click next and repeat'''\n",
    "from selenium.webdriver.common.by import By\n",
    "\n",
    "def scroll():\n",
    "    element = driver.find_element(By.XPATH, \"//a[@aria-label='Go to next page']\")#find next page button\n",
    "    driver.execute_script('window.scrollTo(0,2000)')#partial scroll\n",
    "    time.sleep(3) #pause to let page load, 3 sec\n",
    "    driver.execute_script('window.scrollTo(0,4000)')\n",
    "    time.sleep(3)\n",
    "    driver.execute_script('window.scrollTo(0,6000)')\n",
    "    time.sleep(3)\n",
    "    driver.execute_script('window.scrollTo(0,8000)')\n",
    "    time.sleep(3)\n",
    "    driver.execute_script(\n",
    "    \"arguments[0].scrollIntoView(false);\", element)#scroll to next page button, align with bottom of screen so\n",
    "    #UI banner doesn't overlap the button and prevent the click()\n",
    "    time.sleep(3)#pause to let page load\n",
    "        \n",
    "def click_next():\n",
    "    #driver.find_element_by_class_name('pagination-next').click()\n",
    "    driver.find_element(By.XPATH, \"//a[@aria-label='Go to next page']\").click()\n"
   ]
  },
  {
   "cell_type": "code",
   "execution_count": 70,
   "id": "365a4841",
   "metadata": {},
   "outputs": [],
   "source": [
    "'''iterate through the web pages, scroll down, save the html, click the next page button. store in truck list'''\n",
    "truck1 = []\n",
    "x = 1    \n",
    "while x <= 45:\n",
    "    scroll()\n",
    "    truck1.append(driver.page_source)\n",
    "    click_next()\n",
    "    time.sleep(5)\n",
    "    x += 1"
   ]
  },
  {
   "cell_type": "code",
   "execution_count": 64,
   "id": "ef6309cf",
   "metadata": {},
   "outputs": [
    {
     "name": "stdout",
     "output_type": "stream",
     "text": [
      "False\n"
     ]
    }
   ],
   "source": [
    "'''check to make sure the above code worked and did not pull the same page repeatedly'''\n",
    "count = 0\n",
    "while count < len(soups[0]):\n",
    "    same = True\n",
    "    if soups[0][count]!=soups[1][count]:\n",
    "        same = False\n",
    "        print(same)\n",
    "        break\n",
    "    count += 1\n",
    "        "
   ]
  },
  {
   "cell_type": "code",
   "execution_count": 72,
   "id": "829afb8e",
   "metadata": {},
   "outputs": [
    {
     "data": {
      "text/plain": [
       "50"
      ]
     },
     "execution_count": 72,
     "metadata": {},
     "output_type": "execute_result"
    }
   ],
   "source": [
    "'''sometimes the page loaded an add or customer assistance widget causing the .click() to fail.\n",
    "merge multiple pulls into one variable'''\n",
    "truck_lst = truck+truck1\n",
    "len(truck_lst)"
   ]
  },
  {
   "cell_type": "code",
   "execution_count": 73,
   "id": "a30a4526",
   "metadata": {},
   "outputs": [],
   "source": [
    "import pickle\n",
    "\n",
    "#with open('truck_lst.pickle', 'wb') as f:\n",
    "#    pickle.dump(truck_lst, f)"
   ]
  },
  {
   "cell_type": "code",
   "execution_count": 74,
   "id": "360e8b20",
   "metadata": {},
   "outputs": [],
   "source": [
    "driver.close()"
   ]
  },
  {
   "cell_type": "markdown",
   "id": "fa05741b",
   "metadata": {},
   "source": [
    "## Parse HTML string\n",
    "I used selenium to pull 50 pages of truck search results from a dealership website and stored them in a list called truck. Now I will use beautifulsoup to parse the string files and extract the relevant information and store in a pandas dataframe."
   ]
  },
  {
   "cell_type": "code",
   "execution_count": 75,
   "id": "7d01fb91",
   "metadata": {},
   "outputs": [],
   "source": [
    "import pickle\n",
    "\n",
    "with open('truck_lst.pickle', 'rb') as g:\n",
    "    tsoup = pickle.load(g)"
   ]
  },
  {
   "cell_type": "code",
   "execution_count": 76,
   "id": "b6df4054",
   "metadata": {},
   "outputs": [],
   "source": [
    "'''create soup object for one html page to test parsing code'''\n",
    "truck_soup = bs(tsoup[0], 'html5lib')"
   ]
  },
  {
   "cell_type": "code",
   "execution_count": 78,
   "id": "6a8a6a21",
   "metadata": {},
   "outputs": [],
   "source": [
    "'''extract year make and model from each car listing in the 1 test page'''\n",
    "year_make_model = []\n",
    "\n",
    "for div in truck_soup.find_all('div', class_='vehicle-card-details-container'):\n",
    "    year_make_model.append(div.find('a').text)\n",
    "    #print('info:' + div.find('a').text)"
   ]
  },
  {
   "cell_type": "code",
   "execution_count": 83,
   "id": "624386d8",
   "metadata": {},
   "outputs": [],
   "source": [
    "'''iterate the year, make, model parser across all 50 html strings'''\n",
    "ymk = []\n",
    "\n",
    "for pg in tsoup:\n",
    "    trk_sp = bs(pg, 'html5lib')\n",
    "    for div in trk_sp.find_all('div', class_='vehicle-card-details-container'):\n",
    "        ymk.append(div.find('a').text)"
   ]
  },
  {
   "cell_type": "code",
   "execution_count": 87,
   "id": "57961d29",
   "metadata": {},
   "outputs": [],
   "source": [
    "'''extract the truck price from all listings'''\n",
    "price = []\n",
    "\n",
    "for pg in tsoup:\n",
    "    trk_sp = bs(pg, 'html5lib')\n",
    "    for div in trk_sp.find_all('div', class_='vehicle-card-details-container'):\n",
    "        price.append(div.find('span').text)"
   ]
  },
  {
   "cell_type": "code",
   "execution_count": 89,
   "id": "6c8a02e7",
   "metadata": {},
   "outputs": [],
   "source": [
    "'''extract the odom readings from all car listings'''\n",
    "odom = []\n",
    "\n",
    "for pg in tsoup:\n",
    "    trk_sp = bs(pg, 'html5lib')\n",
    "    for li in trk_sp.find_all('li', class_='odometer'):\n",
    "        odom.append(li.text)"
   ]
  },
  {
   "cell_type": "code",
   "execution_count": 90,
   "id": "c8e59f89",
   "metadata": {},
   "outputs": [],
   "source": [
    "'''extract the dealership type'''\n",
    "acct_name = []\n",
    "\n",
    "for pg in tsoup:\n",
    "    trk_sp = bs(pg, 'html5lib')\n",
    "    for li in trk_sp.find_all('li', class_='accountName'):\n",
    "        acct_name.append(li.text)"
   ]
  },
  {
   "cell_type": "code",
   "execution_count": 91,
   "id": "d53da3f5",
   "metadata": {},
   "outputs": [
    {
     "name": "stdout",
     "output_type": "stream",
     "text": [
      "$21,996\n",
      "2014 Ram 1500 Tradesman\n",
      "Mileage: 83,421 miles \n",
      "Location: Hendrick Lexus Kansas City North \n"
     ]
    }
   ],
   "source": [
    "'''check to ensure correct info pulled into each list, and see what cleaning needs to be done'''\n",
    "print(price[0])\n",
    "print(ymk[0])\n",
    "print(odom[0])\n",
    "print(acct_name[0])"
   ]
  },
  {
   "cell_type": "code",
   "execution_count": 92,
   "id": "ed6a7c59",
   "metadata": {},
   "outputs": [
    {
     "name": "stdout",
     "output_type": "stream",
     "text": [
      "21996\n"
     ]
    }
   ],
   "source": [
    "'''clean price by removing dollar sign and comma'''\n",
    "cl_price = []\n",
    "for val in price:\n",
    "    new_price = ''\n",
    "    for char in val:\n",
    "        if char != '$' and char != ',':\n",
    "            new_price += char\n",
    "    cl_price.append(new_price)\n",
    "    \n",
    "print(cl_price[0])"
   ]
  },
  {
   "cell_type": "code",
   "execution_count": 93,
   "id": "20748c34",
   "metadata": {},
   "outputs": [
    {
     "name": "stdout",
     "output_type": "stream",
     "text": [
      "83421\n"
     ]
    }
   ],
   "source": [
    "'''clean mileage by removing word, miles, and comma'''\n",
    "cl_odom = []\n",
    "for val in odom:\n",
    "    new_odom = ''\n",
    "    for char in val:\n",
    "        if char.isnumeric() == True:\n",
    "            new_odom += char\n",
    "    cl_odom.append(new_odom)\n",
    "    \n",
    "print(cl_odom[0])"
   ]
  },
  {
   "cell_type": "code",
   "execution_count": 99,
   "id": "287459b0",
   "metadata": {},
   "outputs": [
    {
     "name": "stdout",
     "output_type": "stream",
     "text": [
      "year: 2014 make: Ram model: 1500 Tradesman\n"
     ]
    }
   ],
   "source": [
    "'''isolate year, make, and model'''\n",
    "year = []\n",
    "make = []\n",
    "model = []\n",
    "\n",
    "for val in ymk:\n",
    "    splt_ymk = val.split()\n",
    "    year.append(splt_ymk[0])\n",
    "    make.append(splt_ymk[1])\n",
    "    model.append(' '.join(splt_ymk[2:]))\n",
    "\n",
    "print('year: ' + year[0], 'make: '+make[0],'model: '+model[0])\n"
   ]
  },
  {
   "cell_type": "code",
   "execution_count": 101,
   "id": "379a836b",
   "metadata": {},
   "outputs": [
    {
     "name": "stdout",
     "output_type": "stream",
     "text": [
      "['Chevrolet' 'Dodge' 'Ford' 'GMC' 'Honda' 'Hyundai' 'Jeep' 'Nissan' 'Ram'\n",
      " 'Toyota']\n"
     ]
    }
   ],
   "source": [
    "'''get unique make values in preparation for dummy variable'''\n",
    "import numpy as np\n",
    "\n",
    "uniq_makes = np.unique(make)\n",
    "print(uniq_makes)"
   ]
  },
  {
   "cell_type": "code",
   "execution_count": 102,
   "id": "d395bcab",
   "metadata": {},
   "outputs": [
    {
     "name": "stdout",
     "output_type": "stream",
     "text": [
      "1350\n",
      "1350\n",
      "1350\n",
      "1350\n",
      "1350\n"
     ]
    }
   ],
   "source": [
    "'''check to see if all lists are the same length prior to zipping'''\n",
    "print(len(year))\n",
    "print(len(make))\n",
    "print(len(model))\n",
    "print(len(cl_price))\n",
    "print(len(cl_odom))"
   ]
  },
  {
   "cell_type": "code",
   "execution_count": 103,
   "id": "0c81c240",
   "metadata": {},
   "outputs": [],
   "source": [
    "'''zip lists to get list of tuples where each row is one tuple'''\n",
    "zipped = zip(year, make, model, cl_odom, cl_price)\n",
    "zip_lst = list(zipped)"
   ]
  },
  {
   "cell_type": "code",
   "execution_count": 104,
   "id": "770c6988",
   "metadata": {},
   "outputs": [],
   "source": [
    "import pandas as pd"
   ]
  },
  {
   "cell_type": "code",
   "execution_count": 120,
   "id": "8b61ce16",
   "metadata": {},
   "outputs": [],
   "source": [
    "df = pd.DataFrame(zip_lst, columns = ['Year', 'Make', 'Model', 'Mileage', 'Price'])"
   ]
  },
  {
   "cell_type": "code",
   "execution_count": 121,
   "id": "962a9d41",
   "metadata": {
    "scrolled": true
   },
   "outputs": [
    {
     "name": "stdout",
     "output_type": "stream",
     "text": [
      "<class 'pandas.core.frame.DataFrame'>\n",
      "RangeIndex: 1350 entries, 0 to 1349\n",
      "Data columns (total 5 columns):\n",
      " #   Column   Non-Null Count  Dtype \n",
      "---  ------   --------------  ----- \n",
      " 0   Year     1350 non-null   object\n",
      " 1   Make     1350 non-null   object\n",
      " 2   Model    1350 non-null   object\n",
      " 3   Mileage  1350 non-null   object\n",
      " 4   Price    1350 non-null   object\n",
      "dtypes: object(5)\n",
      "memory usage: 52.9+ KB\n"
     ]
    }
   ],
   "source": [
    "df.info()"
   ]
  },
  {
   "cell_type": "code",
   "execution_count": 122,
   "id": "1346e4ed",
   "metadata": {},
   "outputs": [
    {
     "data": {
      "text/html": [
       "<div>\n",
       "<style scoped>\n",
       "    .dataframe tbody tr th:only-of-type {\n",
       "        vertical-align: middle;\n",
       "    }\n",
       "\n",
       "    .dataframe tbody tr th {\n",
       "        vertical-align: top;\n",
       "    }\n",
       "\n",
       "    .dataframe thead th {\n",
       "        text-align: right;\n",
       "    }\n",
       "</style>\n",
       "<table border=\"1\" class=\"dataframe\">\n",
       "  <thead>\n",
       "    <tr style=\"text-align: right;\">\n",
       "      <th></th>\n",
       "      <th>Year</th>\n",
       "      <th>Make</th>\n",
       "      <th>Model</th>\n",
       "      <th>Mileage</th>\n",
       "      <th>Price</th>\n",
       "    </tr>\n",
       "  </thead>\n",
       "  <tbody>\n",
       "    <tr>\n",
       "      <th>0</th>\n",
       "      <td>2014</td>\n",
       "      <td>Ram</td>\n",
       "      <td>1500 Tradesman</td>\n",
       "      <td>83421</td>\n",
       "      <td>21996</td>\n",
       "    </tr>\n",
       "    <tr>\n",
       "      <th>1</th>\n",
       "      <td>2018</td>\n",
       "      <td>Chevrolet</td>\n",
       "      <td>Silverado 2500HD LTZ</td>\n",
       "      <td>87912</td>\n",
       "      <td>59995</td>\n",
       "    </tr>\n",
       "    <tr>\n",
       "      <th>2</th>\n",
       "      <td>2020</td>\n",
       "      <td>Chevrolet</td>\n",
       "      <td>Silverado 1500 LT</td>\n",
       "      <td>38333</td>\n",
       "      <td>39857</td>\n",
       "    </tr>\n",
       "    <tr>\n",
       "      <th>3</th>\n",
       "      <td>2020</td>\n",
       "      <td>GMC</td>\n",
       "      <td>Sierra 1500 Denali</td>\n",
       "      <td>13797</td>\n",
       "      <td>62471</td>\n",
       "    </tr>\n",
       "    <tr>\n",
       "      <th>4</th>\n",
       "      <td>2019</td>\n",
       "      <td>GMC</td>\n",
       "      <td>Sierra 1500 Denali</td>\n",
       "      <td>23475</td>\n",
       "      <td>69957</td>\n",
       "    </tr>\n",
       "  </tbody>\n",
       "</table>\n",
       "</div>"
      ],
      "text/plain": [
       "   Year       Make                 Model Mileage  Price\n",
       "0  2014        Ram        1500 Tradesman   83421  21996\n",
       "1  2018  Chevrolet  Silverado 2500HD LTZ   87912  59995\n",
       "2  2020  Chevrolet     Silverado 1500 LT   38333  39857\n",
       "3  2020        GMC    Sierra 1500 Denali   13797  62471\n",
       "4  2019        GMC    Sierra 1500 Denali   23475  69957"
      ]
     },
     "execution_count": 122,
     "metadata": {},
     "output_type": "execute_result"
    }
   ],
   "source": [
    "df.head()"
   ]
  },
  {
   "cell_type": "code",
   "execution_count": 127,
   "id": "cc104c0d",
   "metadata": {
    "scrolled": true
   },
   "outputs": [],
   "source": [
    "'''make number columns int instead of object'''\n",
    "df1 = pd.DataFrame(data = df.astype({'Year':'int64', 'Mileage':'int64', 'Price':'int64'}))"
   ]
  },
  {
   "cell_type": "code",
   "execution_count": 131,
   "id": "3d376a4d",
   "metadata": {},
   "outputs": [
    {
     "data": {
      "text/html": [
       "<div>\n",
       "<style scoped>\n",
       "    .dataframe tbody tr th:only-of-type {\n",
       "        vertical-align: middle;\n",
       "    }\n",
       "\n",
       "    .dataframe tbody tr th {\n",
       "        vertical-align: top;\n",
       "    }\n",
       "\n",
       "    .dataframe thead th {\n",
       "        text-align: right;\n",
       "    }\n",
       "</style>\n",
       "<table border=\"1\" class=\"dataframe\">\n",
       "  <thead>\n",
       "    <tr style=\"text-align: right;\">\n",
       "      <th></th>\n",
       "      <th>Year</th>\n",
       "      <th>Make</th>\n",
       "      <th>Model</th>\n",
       "      <th>Mileage</th>\n",
       "      <th>Price</th>\n",
       "      <th>Dodge</th>\n",
       "      <th>Ford</th>\n",
       "      <th>GMC</th>\n",
       "      <th>Honda</th>\n",
       "      <th>Hyundai</th>\n",
       "      <th>Jeep</th>\n",
       "      <th>Nissan</th>\n",
       "      <th>Ram</th>\n",
       "      <th>Toyota</th>\n",
       "    </tr>\n",
       "  </thead>\n",
       "  <tbody>\n",
       "    <tr>\n",
       "      <th>1249</th>\n",
       "      <td>2016</td>\n",
       "      <td>Chevrolet</td>\n",
       "      <td>Colorado 2WD Z71</td>\n",
       "      <td>122213</td>\n",
       "      <td>22938</td>\n",
       "      <td>False</td>\n",
       "      <td>False</td>\n",
       "      <td>False</td>\n",
       "      <td>False</td>\n",
       "      <td>False</td>\n",
       "      <td>False</td>\n",
       "      <td>False</td>\n",
       "      <td>False</td>\n",
       "      <td>False</td>\n",
       "    </tr>\n",
       "    <tr>\n",
       "      <th>888</th>\n",
       "      <td>2019</td>\n",
       "      <td>Toyota</td>\n",
       "      <td>Tacoma 4WD TRD Sport</td>\n",
       "      <td>40794</td>\n",
       "      <td>36500</td>\n",
       "      <td>False</td>\n",
       "      <td>False</td>\n",
       "      <td>False</td>\n",
       "      <td>False</td>\n",
       "      <td>False</td>\n",
       "      <td>False</td>\n",
       "      <td>False</td>\n",
       "      <td>False</td>\n",
       "      <td>True</td>\n",
       "    </tr>\n",
       "    <tr>\n",
       "      <th>405</th>\n",
       "      <td>2020</td>\n",
       "      <td>Chevrolet</td>\n",
       "      <td>Silverado 1500 RST</td>\n",
       "      <td>54213</td>\n",
       "      <td>50998</td>\n",
       "      <td>False</td>\n",
       "      <td>False</td>\n",
       "      <td>False</td>\n",
       "      <td>False</td>\n",
       "      <td>False</td>\n",
       "      <td>False</td>\n",
       "      <td>False</td>\n",
       "      <td>False</td>\n",
       "      <td>False</td>\n",
       "    </tr>\n",
       "    <tr>\n",
       "      <th>937</th>\n",
       "      <td>2019</td>\n",
       "      <td>Toyota</td>\n",
       "      <td>Tacoma 4WD SR5</td>\n",
       "      <td>22130</td>\n",
       "      <td>37321</td>\n",
       "      <td>False</td>\n",
       "      <td>False</td>\n",
       "      <td>False</td>\n",
       "      <td>False</td>\n",
       "      <td>False</td>\n",
       "      <td>False</td>\n",
       "      <td>False</td>\n",
       "      <td>False</td>\n",
       "      <td>True</td>\n",
       "    </tr>\n",
       "    <tr>\n",
       "      <th>625</th>\n",
       "      <td>2016</td>\n",
       "      <td>Chevrolet</td>\n",
       "      <td>Silverado 3500HD LTZ</td>\n",
       "      <td>135559</td>\n",
       "      <td>49982</td>\n",
       "      <td>False</td>\n",
       "      <td>False</td>\n",
       "      <td>False</td>\n",
       "      <td>False</td>\n",
       "      <td>False</td>\n",
       "      <td>False</td>\n",
       "      <td>False</td>\n",
       "      <td>False</td>\n",
       "      <td>False</td>\n",
       "    </tr>\n",
       "    <tr>\n",
       "      <th>958</th>\n",
       "      <td>2021</td>\n",
       "      <td>Jeep</td>\n",
       "      <td>Gladiator High Altitude</td>\n",
       "      <td>7708</td>\n",
       "      <td>53889</td>\n",
       "      <td>False</td>\n",
       "      <td>False</td>\n",
       "      <td>False</td>\n",
       "      <td>False</td>\n",
       "      <td>False</td>\n",
       "      <td>True</td>\n",
       "      <td>False</td>\n",
       "      <td>False</td>\n",
       "      <td>False</td>\n",
       "    </tr>\n",
       "    <tr>\n",
       "      <th>912</th>\n",
       "      <td>2020</td>\n",
       "      <td>GMC</td>\n",
       "      <td>Sierra 2500HD AT4</td>\n",
       "      <td>23262</td>\n",
       "      <td>77171</td>\n",
       "      <td>False</td>\n",
       "      <td>False</td>\n",
       "      <td>True</td>\n",
       "      <td>False</td>\n",
       "      <td>False</td>\n",
       "      <td>False</td>\n",
       "      <td>False</td>\n",
       "      <td>False</td>\n",
       "      <td>False</td>\n",
       "    </tr>\n",
       "    <tr>\n",
       "      <th>36</th>\n",
       "      <td>2016</td>\n",
       "      <td>Ford</td>\n",
       "      <td>F-150 XLT</td>\n",
       "      <td>97985</td>\n",
       "      <td>29588</td>\n",
       "      <td>False</td>\n",
       "      <td>True</td>\n",
       "      <td>False</td>\n",
       "      <td>False</td>\n",
       "      <td>False</td>\n",
       "      <td>False</td>\n",
       "      <td>False</td>\n",
       "      <td>False</td>\n",
       "      <td>False</td>\n",
       "    </tr>\n",
       "    <tr>\n",
       "      <th>767</th>\n",
       "      <td>2020</td>\n",
       "      <td>Ford</td>\n",
       "      <td>F-150 XL</td>\n",
       "      <td>28433</td>\n",
       "      <td>42500</td>\n",
       "      <td>False</td>\n",
       "      <td>True</td>\n",
       "      <td>False</td>\n",
       "      <td>False</td>\n",
       "      <td>False</td>\n",
       "      <td>False</td>\n",
       "      <td>False</td>\n",
       "      <td>False</td>\n",
       "      <td>False</td>\n",
       "    </tr>\n",
       "    <tr>\n",
       "      <th>462</th>\n",
       "      <td>2020</td>\n",
       "      <td>Chevrolet</td>\n",
       "      <td>Silverado 1500 LT</td>\n",
       "      <td>41672</td>\n",
       "      <td>36994</td>\n",
       "      <td>False</td>\n",
       "      <td>False</td>\n",
       "      <td>False</td>\n",
       "      <td>False</td>\n",
       "      <td>False</td>\n",
       "      <td>False</td>\n",
       "      <td>False</td>\n",
       "      <td>False</td>\n",
       "      <td>False</td>\n",
       "    </tr>\n",
       "  </tbody>\n",
       "</table>\n",
       "</div>"
      ],
      "text/plain": [
       "      Year       Make                    Model  Mileage  Price  Dodge   Ford  \\\n",
       "1249  2016  Chevrolet         Colorado 2WD Z71   122213  22938  False  False   \n",
       "888   2019     Toyota     Tacoma 4WD TRD Sport    40794  36500  False  False   \n",
       "405   2020  Chevrolet       Silverado 1500 RST    54213  50998  False  False   \n",
       "937   2019     Toyota           Tacoma 4WD SR5    22130  37321  False  False   \n",
       "625   2016  Chevrolet     Silverado 3500HD LTZ   135559  49982  False  False   \n",
       "958   2021       Jeep  Gladiator High Altitude     7708  53889  False  False   \n",
       "912   2020        GMC        Sierra 2500HD AT4    23262  77171  False  False   \n",
       "36    2016       Ford                F-150 XLT    97985  29588  False   True   \n",
       "767   2020       Ford                 F-150 XL    28433  42500  False   True   \n",
       "462   2020  Chevrolet        Silverado 1500 LT    41672  36994  False  False   \n",
       "\n",
       "        GMC  Honda  Hyundai   Jeep  Nissan    Ram  Toyota  \n",
       "1249  False  False    False  False   False  False   False  \n",
       "888   False  False    False  False   False  False    True  \n",
       "405   False  False    False  False   False  False   False  \n",
       "937   False  False    False  False   False  False    True  \n",
       "625   False  False    False  False   False  False   False  \n",
       "958   False  False    False   True   False  False   False  \n",
       "912    True  False    False  False   False  False   False  \n",
       "36    False  False    False  False   False  False   False  \n",
       "767   False  False    False  False   False  False   False  \n",
       "462   False  False    False  False   False  False   False  "
      ]
     },
     "execution_count": 131,
     "metadata": {},
     "output_type": "execute_result"
    }
   ],
   "source": [
    "df1['Dodge'] = ((df1['Make'] == 'Dodge'))\n",
    "df1['Ford'] = ((df1['Make'] == 'Ford'))\n",
    "df1['GMC'] = ((df1['Make'] == 'GMC'))\n",
    "df1['Honda'] = ((df1['Make'] == 'Honda'))\n",
    "df1['Hyundai'] = ((df1['Make'] == 'Hyundai'))\n",
    "df1['Jeep'] = ((df1['Make'] == 'Jeep'))\n",
    "df1['Nissan'] = ((df1['Make'] == 'Nissan'))\n",
    "df1['Ram'] = ((df1['Make'] == 'Ram'))\n",
    "df1['Toyota'] = ((df1['Make'] == 'Toyota'))\n",
    "df1.sample(10)"
   ]
  },
  {
   "cell_type": "code",
   "execution_count": 133,
   "id": "989f0bf4",
   "metadata": {},
   "outputs": [
    {
     "name": "stdout",
     "output_type": "stream",
     "text": [
      "<class 'pandas.core.frame.DataFrame'>\n",
      "RangeIndex: 1350 entries, 0 to 1349\n",
      "Data columns (total 14 columns):\n",
      " #   Column   Non-Null Count  Dtype \n",
      "---  ------   --------------  ----- \n",
      " 0   Year     1350 non-null   int64 \n",
      " 1   Make     1350 non-null   object\n",
      " 2   Model    1350 non-null   object\n",
      " 3   Mileage  1350 non-null   int64 \n",
      " 4   Price    1350 non-null   int64 \n",
      " 5   Dodge    1350 non-null   int64 \n",
      " 6   Ford     1350 non-null   int64 \n",
      " 7   GMC      1350 non-null   int64 \n",
      " 8   Honda    1350 non-null   int64 \n",
      " 9   Hyundai  1350 non-null   int64 \n",
      " 10  Jeep     1350 non-null   int64 \n",
      " 11  Nissan   1350 non-null   int64 \n",
      " 12  Ram      1350 non-null   int64 \n",
      " 13  Toyota   1350 non-null   int64 \n",
      "dtypes: int64(12), object(2)\n",
      "memory usage: 147.8+ KB\n"
     ]
    }
   ],
   "source": [
    "'''create dummy variables for categorical make column. could have used pd.get_dummies(df1['Make'],drop_first=True)'''\n",
    "'''chevrolet is the dropped column, the default to prevent multi-collinearity issues'''\n",
    "df2 = pd.DataFrame(data = df1.astype({'Dodge':'int64', 'Ford':'int64', 'GMC':'int64', 'Honda':'int64',\n",
    "                                      'Hyundai':'int64', 'Jeep':'int64', 'Nissan':'int64', 'Ram':'int64',\n",
    "                                      'Toyota':'int64'}))"
   ]
  },
  {
   "cell_type": "code",
   "execution_count": 135,
   "id": "53a0847f",
   "metadata": {
    "scrolled": true
   },
   "outputs": [
    {
     "name": "stdout",
     "output_type": "stream",
     "text": [
      "<class 'pandas.core.frame.DataFrame'>\n",
      "RangeIndex: 1350 entries, 0 to 1349\n",
      "Data columns (total 13 columns):\n",
      " #   Column   Non-Null Count  Dtype \n",
      "---  ------   --------------  ----- \n",
      " 0   Year     1350 non-null   int64 \n",
      " 1   Model    1350 non-null   object\n",
      " 2   Mileage  1350 non-null   int64 \n",
      " 3   Price    1350 non-null   int64 \n",
      " 4   Dodge    1350 non-null   int64 \n",
      " 5   Ford     1350 non-null   int64 \n",
      " 6   GMC      1350 non-null   int64 \n",
      " 7   Honda    1350 non-null   int64 \n",
      " 8   Hyundai  1350 non-null   int64 \n",
      " 9   Jeep     1350 non-null   int64 \n",
      " 10  Nissan   1350 non-null   int64 \n",
      " 11  Ram      1350 non-null   int64 \n",
      " 12  Toyota   1350 non-null   int64 \n",
      "dtypes: int64(12), object(1)\n",
      "memory usage: 137.2+ KB\n"
     ]
    }
   ],
   "source": [
    "df2.drop('Make',axis=1, inplace=True)\n",
    "df2.info()"
   ]
  },
  {
   "cell_type": "code",
   "execution_count": 139,
   "id": "014fe803",
   "metadata": {},
   "outputs": [],
   "source": [
    "#with open('dataframe.pickle', 'wb') as f:\n",
    "#    pickle.dump(df2, f)"
   ]
  },
  {
   "cell_type": "markdown",
   "id": "fc7e016f",
   "metadata": {},
   "source": [
    "## Linear Regression Model\n",
    "The data has been successfully scraped and cleaned from the dealership website. Next step is to begin modeling."
   ]
  },
  {
   "cell_type": "markdown",
   "id": "921f2ba6",
   "metadata": {},
   "source": [
    "### Load Data"
   ]
  },
  {
   "cell_type": "code",
   "execution_count": 2,
   "id": "471b5fbd",
   "metadata": {},
   "outputs": [],
   "source": [
    "import statsmodels.api as sm\n",
    "import pandas as pd\n",
    "import matplotlib.pyplot as plt"
   ]
  },
  {
   "cell_type": "code",
   "execution_count": 3,
   "id": "0dc60813",
   "metadata": {},
   "outputs": [],
   "source": [
    "import pickle\n",
    "\n",
    "with open('dataframe.pickle', 'rb') as g:\n",
    "    df = pickle.load(g)"
   ]
  },
  {
   "cell_type": "code",
   "execution_count": 4,
   "id": "c8eff068",
   "metadata": {},
   "outputs": [
    {
     "name": "stdout",
     "output_type": "stream",
     "text": [
      "<class 'pandas.core.frame.DataFrame'>\n",
      "RangeIndex: 1350 entries, 0 to 1349\n",
      "Data columns (total 13 columns):\n",
      " #   Column   Non-Null Count  Dtype \n",
      "---  ------   --------------  ----- \n",
      " 0   Year     1350 non-null   int64 \n",
      " 1   Model    1350 non-null   object\n",
      " 2   Mileage  1350 non-null   int64 \n",
      " 3   Price    1350 non-null   int64 \n",
      " 4   Dodge    1350 non-null   int64 \n",
      " 5   Ford     1350 non-null   int64 \n",
      " 6   GMC      1350 non-null   int64 \n",
      " 7   Honda    1350 non-null   int64 \n",
      " 8   Hyundai  1350 non-null   int64 \n",
      " 9   Jeep     1350 non-null   int64 \n",
      " 10  Nissan   1350 non-null   int64 \n",
      " 11  Ram      1350 non-null   int64 \n",
      " 12  Toyota   1350 non-null   int64 \n",
      "dtypes: int64(12), object(1)\n",
      "memory usage: 137.2+ KB\n"
     ]
    }
   ],
   "source": [
    "df.info()"
   ]
  },
  {
   "cell_type": "markdown",
   "id": "f200f62a",
   "metadata": {},
   "source": [
    "## Feature Engineering\n",
    "I am going to switch the vehicle year to years old from 2022. This will change the values to the same magnitude as the dummy variables. Additionally, I will apply a standard scaler to all the variables and remodel. No missing variables or time data to take into consideration. Use a pair plot to assess relationships between variables as well as to evaluate if polynomial linear regression is an option."
   ]
  },
  {
   "cell_type": "code",
   "execution_count": 5,
   "id": "c5815d4f",
   "metadata": {
    "scrolled": true
   },
   "outputs": [
    {
     "data": {
      "text/plain": [
       "0    8\n",
       "1    4\n",
       "2    2\n",
       "3    2\n",
       "4    3\n",
       "Name: Years_Old, dtype: int64"
      ]
     },
     "execution_count": 5,
     "metadata": {},
     "output_type": "execute_result"
    }
   ],
   "source": [
    "'''replace year with years old so value is same magnitude as dummy variables'''\n",
    "df['Years_Old'] = 2022 - df['Year']\n",
    "df['Years_Old'].head()"
   ]
  },
  {
   "cell_type": "code",
   "execution_count": 7,
   "id": "5ef5f733",
   "metadata": {},
   "outputs": [
    {
     "data": {
      "image/png": "[encoded data removed]",
      "text/plain": [
       "<Figure size 540x540 with 12 Axes>"
      ]
     },
     "metadata": {
      "needs_background": "light"
     },
     "output_type": "display_data"
    }
   ],
   "source": [
    "'''pair plot to compare variables'''\n",
    "import seaborn as sns\n",
    "import statsmodels.api as sm\n",
    "\n",
    "sns.pairplot(df.drop(columns=['Model', 'Year', 'Dodge', 'Ford','GMC','Honda','Hyundai','Jeep','Nissan','Ram','Toyota']))\n",
    "\n",
    "plt.savefig('pairplot.jpg')"
   ]
  },
  {
   "cell_type": "markdown",
   "id": "d6ae3932",
   "metadata": {},
   "source": [
    "### Split data into Train & Test"
   ]
  },
  {
   "cell_type": "code",
   "execution_count": 11,
   "id": "aee4f964",
   "metadata": {},
   "outputs": [],
   "source": [
    "from sklearn.model_selection import train_test_split\n",
    "x = df.drop(columns=['Price', 'Model']) #drop jeep and dodge because they're p-values below 0.05\n",
    "y = df['Price']\n",
    "x_train, x_test, y_train, y_test = train_test_split(x,y, test_size=.2, random_state = 21) #.2 = 20% res for test"
   ]
  },
  {
   "cell_type": "markdown",
   "id": "f1294768",
   "metadata": {},
   "source": [
    "### Split into Multiple Folds for Cross Validation\n",
    "I only scraped 1300 rows of data, small datasets benefit from cross validation."
   ]
  },
  {
   "cell_type": "code",
   "execution_count": 13,
   "id": "345a6f38",
   "metadata": {},
   "outputs": [],
   "source": [
    "from sklearn.model_selection import KFold\n",
    "\n",
    "kf = KFold(n_splits=5, #5 groups\n",
    "          shuffle = True,#randomizes order of rows before split\n",
    "          random_state=21) #save state for repeatability"
   ]
  },
  {
   "cell_type": "markdown",
   "id": "f89ff0ca",
   "metadata": {},
   "source": [
    "### Baseline: Linear Regression"
   ]
  },
  {
   "cell_type": "code",
   "execution_count": 22,
   "id": "872dd7b7",
   "metadata": {
    "scrolled": true
   },
   "outputs": [
    {
     "name": "stdout",
     "output_type": "stream",
     "text": [
      "[0.44317402 0.39125662 0.43247868 0.42050969 0.45550769]\n",
      "Linear Reg Mean Score:  0.42858533863148923\n"
     ]
    }
   ],
   "source": [
    "import numpy as np\n",
    "from sklearn.model_selection import train_test_split\n",
    "from sklearn.linear_model import LinearRegression\n",
    "from sklearn.model_selection import KFold\n",
    "from sklearn.model_selection import cross_val_score\n",
    "\n",
    "bl_lin_reg = LinearRegression()\n",
    "\n",
    "baseline_score = cross_val_score(bl_lin_reg, x_train, y_train, cv=kf, scoring='r2')\n",
    "print(baseline_score)\n",
    "print(\"Linear Reg Mean Score: \", np.mean(baseline_score))\n",
    "\n",
    "bl_lin_reg_fit = bl_lin_reg.fit(x_train, y_train)\n",
    "\n",
    "import statsmodels.api as sm\n",
    "\n",
    "x_train2 = sm.add_constant(x_train)\n",
    "sm_bl_lin_reg = sm.OLS(y_train, x_train2)\n",
    "sm_bl_lin_reg_fit = sm_bl_lin_reg.fit()\n",
    "sum_latex = sm_bl_lin_reg_fit.summary().as_latex()\n",
    "\n",
    "with open('latex.txt','w') as text_file:\n",
    "    text_file.write(sum_latex)"
   ]
  },
  {
   "cell_type": "markdown",
   "id": "27cd94f7",
   "metadata": {},
   "source": [
    "### Evaluate Model"
   ]
  },
  {
   "cell_type": "code",
   "execution_count": 16,
   "id": "3782520a",
   "metadata": {},
   "outputs": [
    {
     "data": {
      "text/plain": [
       "[<matplotlib.lines.Line2D at 0x7f99ae589940>]"
      ]
     },
     "execution_count": 16,
     "metadata": {},
     "output_type": "execute_result"
    },
    {
     "data": {
      "image/png": "[encoded data removed]",
      "text/plain": [
       "<Figure size 432x288 with 1 Axes>"
      ]
     },
     "metadata": {
      "needs_background": "light"
     },
     "output_type": "display_data"
    }
   ],
   "source": [
    "'''compare fitted data to actual data'''\n",
    "y_test_pred = bl_lin_reg_fit.predict(x_test)\n",
    "\n",
    "plt.scatter(y_test, y_test_pred, alpha=0.2)\n",
    "plt.plot([0,70000],[0,70000])"
   ]
  },
  {
   "cell_type": "code",
   "execution_count": 18,
   "id": "6d76ff62",
   "metadata": {
    "scrolled": true
   },
   "outputs": [
    {
     "name": "stdout",
     "output_type": "stream",
     "text": [
      "-2631210.212536516\n",
      "[ 1.33143477e+03 -1.31644945e-01  1.17572931e+04  6.57882221e+03\n",
      "  1.24363229e+04 -1.00246863e+04  1.81898940e-12  9.99443844e+02\n",
      " -8.20111591e+03  5.16837255e+03 -5.15569539e+03 -1.33143477e+03]\n",
      "RMSE: 11701.238305660887\n"
     ]
    }
   ],
   "source": [
    "from sklearn.metrics import mean_squared_error, mean_absolute_error\n",
    "\n",
    "print(bl_lin_reg_fit.intercept_)\n",
    "print(bl_lin_reg_fit.coef_)\n",
    "\n",
    "bl_rmse = np.sqrt(mean_squared_error(y_test, y_test_pred))\n",
    "print('RMSE: ' + str(bl_rmse))"
   ]
  },
  {
   "cell_type": "code",
   "execution_count": 19,
   "id": "ccea4c67",
   "metadata": {},
   "outputs": [
    {
     "data": {
      "image/png": "[encoded data removed]",
      "text/plain": [
       "<Figure size 432x288 with 1 Axes>"
      ]
     },
     "metadata": {
      "needs_background": "light"
     },
     "output_type": "display_data"
    }
   ],
   "source": [
    "'''plot residuals vs predicted'''\n",
    "lin_reg_residuals = y_test - y_test_pred\n",
    "\n",
    "plt.scatter(y_test_pred, lin_reg_residuals)\n",
    "plt.title(\"Residuals vs Predictions\")\n",
    "plt.savefig('bl_residuals.jpg')"
   ]
  },
  {
   "cell_type": "markdown",
   "id": "2a1f928f",
   "metadata": {},
   "source": [
    "Residual plot should look like noise, this model likely has a specification issue."
   ]
  },
  {
   "cell_type": "markdown",
   "id": "25c3e124",
   "metadata": {},
   "source": [
    "## Linear Regression with Standard Scaler for Features:"
   ]
  },
  {
   "cell_type": "code",
   "execution_count": 96,
   "id": "a229ece0",
   "metadata": {},
   "outputs": [
    {
     "name": "stdout",
     "output_type": "stream",
     "text": [
      "R2 for Linear Model with standard scaler: 0.43\n"
     ]
    }
   ],
   "source": [
    "'''standard scaling across features'''\n",
    "from sklearn.preprocessing import StandardScaler\n",
    "\n",
    "std = StandardScaler()\n",
    "std.fit(x_train)\n",
    "x_tr_sc = std.transform(x_train)\n",
    "x_te_sc = std.transform(x_test)\n",
    "\n",
    "lm_scaler = LinearRegression()\n",
    "lm_scaler_score = cross_val_score(lm_scaler, x_tr, y_train, cv=kf, scoring='r2') #estimator, features, target vars\n",
    "print('R2 for Linear Model with standard scaler: ' + str(np.round(np.mean(lm_scaler_score),2)))\n",
    "\n",
    "lm_scaler_fit = lm_scaler.fit(x_tr_sc, y_train)"
   ]
  },
  {
   "cell_type": "markdown",
   "id": "9beb28b9",
   "metadata": {},
   "source": [
    "### Evaluate Standard Scaler"
   ]
  },
  {
   "cell_type": "code",
   "execution_count": 91,
   "id": "992a93bf",
   "metadata": {},
   "outputs": [
    {
     "name": "stdout",
     "output_type": "stream",
     "text": [
      "RMSE: 11704.103727994332\n"
     ]
    }
   ],
   "source": [
    "from sklearn.metrics import mean_squared_error\n",
    "\n",
    "std_scl_y_pred = lm_scaler_fit.predict(x_te_sc)\n",
    "\n",
    "std_scl_rmse = np.sqrt(mean_squared_error(y_test, std_scl_y_pred))\n",
    "print('RMSE: ' + str(std_scl_rmse))"
   ]
  },
  {
   "cell_type": "markdown",
   "id": "d201811f",
   "metadata": {},
   "source": [
    "## Elastic Net\n",
    "To adjust model to overcome under and overfitting due to bias and variance, I will add the ElasticNet regularized regression method."
   ]
  },
  {
   "cell_type": "code",
   "execution_count": 98,
   "id": "1a9a3b19",
   "metadata": {},
   "outputs": [
    {
     "name": "stdout",
     "output_type": "stream",
     "text": [
      "Elastic Net R^2 = 0.44469370764903304\n"
     ]
    }
   ],
   "source": [
    "from sklearn.linear_model import ElasticNetCV\n",
    "\n",
    "alphas = [0.001, 0.01, 0.1, 0.3, 0.5, 0.7, 1]\n",
    "l1_rats = [.1, .5, .7, .9, .95, .99, .1, .15, .2, .25, .3, .5, .75]\n",
    "\n",
    "enet_model = ElasticNetCV(alphas = alphas,\n",
    "                         l1_ratio = l1_rats,\n",
    "                         cv = kf)\n",
    "enet_model_fit = enet_model.fit(x_train, y_train)\n",
    "print('Elastic Net R^2 = ' + str(enet_model_fit.score(x_train, y_train)))"
   ]
  },
  {
   "cell_type": "markdown",
   "id": "d0a0a36f",
   "metadata": {},
   "source": [
    "### Evaluate Elastic Net Model"
   ]
  },
  {
   "cell_type": "code",
   "execution_count": 99,
   "id": "53d4ff7e",
   "metadata": {},
   "outputs": [
    {
     "name": "stdout",
     "output_type": "stream",
     "text": [
      "RMSE: 11692.565436495488\n"
     ]
    }
   ],
   "source": [
    "from sklearn.metrics import mean_squared_error\n",
    "\n",
    "enet_y_pred = enet_model_fit.predict(x_test)\n",
    "\n",
    "enet_rmse = np.sqrt(mean_squared_error(y_test, enet_y_pred))\n",
    "print('RMSE: ' + str(enet_rmse))"
   ]
  },
  {
   "cell_type": "markdown",
   "id": "3ece4d33",
   "metadata": {},
   "source": [
    "## Polynomial Linear Regression"
   ]
  },
  {
   "cell_type": "code",
   "execution_count": 24,
   "id": "5764db68",
   "metadata": {
    "scrolled": true
   },
   "outputs": [
    {
     "name": "stdout",
     "output_type": "stream",
     "text": [
      "Poly R^2= 0.503625514439383\n"
     ]
    }
   ],
   "source": [
    "from sklearn.preprocessing import PolynomialFeatures\n",
    "\n",
    "poly = PolynomialFeatures(degree=2, include_bias=False) #create scikit polynomial feature object\n",
    "poly_features = poly.fit_transform(x) #store polynomial object array in var\n",
    "poly_x_train, poly_x_test, poly_y_train, poly_y_test = train_test_split(poly_features, y, test_size=0.2, random_state=21)\n",
    "\n",
    "poly_reg_m = LinearRegression()\n",
    "poly_reg_fit = poly_reg_m.fit(poly_x_train,poly_y_train)\n",
    "print('Poly R^2= ' + str(poly_reg_m.score(poly_x_train,poly_y_train)))\n"
   ]
  },
  {
   "cell_type": "markdown",
   "id": "246c5914",
   "metadata": {},
   "source": [
    "### Evaluate Polynomial Regression"
   ]
  },
  {
   "cell_type": "code",
   "execution_count": 25,
   "id": "ed583c7a",
   "metadata": {},
   "outputs": [
    {
     "name": "stdout",
     "output_type": "stream",
     "text": [
      "RMSE: 11251.030823142704\n"
     ]
    }
   ],
   "source": [
    "from sklearn.metrics import mean_squared_error\n",
    "\n",
    "poly_reg_y_pred = poly_reg_fit.predict(poly_x_test)\n",
    "\n",
    "poly_reg_rmse = np.sqrt(mean_squared_error(poly_y_test, poly_reg_y_pred))\n",
    "print('RMSE: ' + str(poly_reg_rmse))"
   ]
  },
  {
   "cell_type": "code",
   "execution_count": 27,
   "id": "241e223a",
   "metadata": {},
   "outputs": [
    {
     "data": {
      "image/png": "[encoded data removed]",
      "text/plain": [
       "<Figure size 432x288 with 1 Axes>"
      ]
     },
     "metadata": {
      "needs_background": "light"
     },
     "output_type": "display_data"
    }
   ],
   "source": [
    "'''compare fitted data to actual data'''\n",
    "\n",
    "plt.scatter(poly_y_test, poly_reg_y_pred, alpha=0.2)\n",
    "plt.plot([0,70000],[0,70000])\n",
    "plt.savefig('poly_resid.jpg')"
   ]
  },
  {
   "cell_type": "code",
   "execution_count": null,
   "id": "ae23a288",
   "metadata": {},
   "outputs": [],
   "source": []
  }
 ],
 "metadata": {
  "kernelspec": {
   "display_name": "Python 3 (ipykernel)",
   "language": "python",
   "name": "python3"
  },
  "language_info": {
   "codemirror_mode": {
    "name": "ipython",
    "version": 3
   },
   "file_extension": ".py",
   "mimetype": "text/x-python",
   "name": "python",
   "nbconvert_exporter": "python",
   "pygments_lexer": "ipython3",
   "version": "3.9.10"
  }
 },
 "nbformat": 4,
 "nbformat_minor": 5
}
